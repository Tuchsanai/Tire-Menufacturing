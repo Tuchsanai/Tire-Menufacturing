{
 "cells": [
  {
   "cell_type": "markdown",
   "metadata": {},
   "source": []
  },
  {
   "cell_type": "markdown",
   "metadata": {},
   "source": []
  },
  {
   "cell_type": "raw",
   "metadata": {},
   "source": [
    "05"
   ]
  },
  {
   "cell_type": "code",
   "execution_count": 1,
   "metadata": {},
   "outputs": [],
   "source": [
    "from pyomo.environ import *"
   ]
  },
  {
   "cell_type": "code",
   "execution_count": 2,
   "metadata": {},
   "outputs": [],
   "source": [
    "model = ConcreteModel()\n",
    "\n",
    "model.R=Param(initialize=10)\n",
    "model.x=Var(bounds=(0,model.R), initialize=model.R)\n",
    "model.y=Var(bounds=(0,model.R), initialize=model.R)\n",
    "model.C1=Constraint(expr=model.x**2+model.y**2==model.R**2)\n",
    "model.f1=Objective(expr=4*model.x*model.y,sense=maximize)"
   ]
  },
  {
   "cell_type": "code",
   "execution_count": 3,
   "metadata": {},
   "outputs": [],
   "source": [
    "opt     = SolverFactory('ipopt')\n",
    "results = opt.solve(model);"
   ]
  },
  {
   "cell_type": "code",
   "execution_count": 4,
   "metadata": {},
   "outputs": [
    {
     "name": "stdout",
     "output_type": "stream",
     "text": [
      "x=  7.071\n",
      "y=  7.071\n",
      "OF=  200.0\n"
     ]
    }
   ],
   "source": [
    "print('x= ',round(value(model.x),3))\n",
    "print('y= ',round(value(model.y),3))\n",
    "print('OF= ',round(value(model.f1),3) )"
   ]
  },
  {
   "cell_type": "code",
   "execution_count": null,
   "metadata": {},
   "outputs": [],
   "source": []
  },
  {
   "cell_type": "markdown",
   "metadata": {},
   "source": [
    "You have a company of shoes with 3 very large machines, and you\n",
    "wish to minimize the total cost of production.\n",
    "The total cost of production of each machine is:\n",
    "A) Ca = 0.1P2 + 0.5PA + 0.1\n",
    "B) CB\n",
    "= 0,3Pg + 0.5\n",
    "C) Cc = 0.01P%\n",
    "where C is the cost of production of P products for each machine\n",
    "In the next month, you have a demand of 10,000 shoes. What is\n",
    "the number of products that should be assigned to each machine\n",
    "in order to minimize the total cost?"
   ]
  },
  {
   "cell_type": "markdown",
   "metadata": {},
   "source": []
  },
  {
   "cell_type": "code",
   "execution_count": 9,
   "metadata": {},
   "outputs": [],
   "source": [
    "import pyomo.environ as pyo\n",
    "from pyomo.opt import SolverFactory\n",
    "\n",
    "m = pyo.ConcreteModel()\n",
    "\n",
    "#sets and parameters\n",
    "m.setMachine = pyo.Set(initialize=['A','B','C'])\n",
    "m.Demand = 10000\n",
    "\n",
    "#variables\n",
    "m.C = pyo.Var(m.setMachine, bounds=(0,None))\n",
    "m.P = pyo.Var(m.setMachine, within=pyo.Integers, bounds=(0,None))\n",
    "\n",
    "#objective function\n",
    "m.obj = pyo.Objective(expr = pyo.summation(m.C), sense=pyo.minimize)\n",
    "\n",
    "#constraints\n",
    "m.C1 = pyo.Constraint(expr = pyo.summation(m.P) == m.Demand)\n",
    "m.C2 = pyo.Constraint(expr = m.C['A'] == 0.1*m.P['A']**2 + 0.5*m.P['A'] + 0.1)\n",
    "m.C3 = pyo.Constraint(expr = m.C['B'] == 0.3*m.P['B'] + 0.5)\n",
    "m.C4 = pyo.Constraint(expr = m.C['C'] == 0.01*m.P['C']**3)\n",
    "\n",
    "#solve\n",
    "#opt = SolverFactory('couenne')\n",
    "opt     = SolverFactory('ipopt')\n",
    "\n",
    "m.results = opt.solve(m)\n"
   ]
  },
  {
   "cell_type": "code",
   "execution_count": 10,
   "metadata": {},
   "outputs": [
    {
     "name": "stdout",
     "output_type": "stream",
     "text": [
      "1 Set Declarations\n",
      "    setMachine : Size=1, Index=None, Ordered=Insertion\n",
      "        Key  : Dimen : Domain : Size : Members\n",
      "        None :     1 :    Any :    3 : {'A', 'B', 'C'}\n",
      "\n",
      "2 Var Declarations\n",
      "    C : Size=3, Index=setMachine\n",
      "        Key : Lower : Value               : Upper : Fixed : Stale : Domain\n",
      "          A :     0 : 0.10000000109177948 :  None : False : False :  Reals\n",
      "          B :     0 :   2999.551316696256 :  None : False : False :  Reals\n",
      "          C :     0 :  0.3162277710350839 :  None : False : False :  Reals\n",
      "    P : Size=3, Index=setMachine\n",
      "        Key : Lower : Value                  : Upper : Fixed : Stale : Domain\n",
      "          A :     0 : 2.1983794637868577e-09 :  None : False : False : Integers\n",
      "          B :     0 :      9996.837722320855 :  None : False : False : Integers\n",
      "          C :     0 :      3.162277676947986 :  None : False : False : Integers\n",
      "\n",
      "1 Objective Declarations\n",
      "    obj : Size=1, Index=None, Active=True\n",
      "        Key  : Active : Sense    : Expression\n",
      "        None :   True : minimize : C[A] + C[B] + C[C]\n",
      "\n",
      "4 Constraint Declarations\n",
      "    C1 : Size=1, Index=None, Active=True\n",
      "        Key  : Lower   : Body               : Upper   : Active\n",
      "        None : 10000.0 : P[A] + P[B] + P[C] : 10000.0 :   True\n",
      "    C2 : Size=1, Index=None, Active=True\n",
      "        Key  : Lower : Body                                  : Upper : Active\n",
      "        None :   0.0 : C[A] - (0.1*P[A]**2 + 0.5*P[A] + 0.1) :   0.0 :   True\n",
      "    C3 : Size=1, Index=None, Active=True\n",
      "        Key  : Lower : Body                    : Upper : Active\n",
      "        None :   0.0 : C[B] - (0.3*P[B] + 0.5) :   0.0 :   True\n",
      "    C4 : Size=1, Index=None, Active=True\n",
      "        Key  : Lower : Body                : Upper : Active\n",
      "        None :   0.0 : C[C] - 0.01*P[C]**3 :   0.0 :   True\n",
      "\n",
      "8 Declarations: setMachine C P obj C1 C2 C3 C4\n",
      "\n",
      "\n",
      "OF: 2999.967544468383\n"
     ]
    }
   ],
   "source": [
    "\n",
    "#print\n",
    "m.pprint()\n",
    "\n",
    "print('\\n\\nOF:',pyo.value(m.obj))"
   ]
  },
  {
   "cell_type": "code",
   "execution_count": 8,
   "metadata": {},
   "outputs": [
    {
     "data": {
      "text/plain": [
       "2999.967544468383"
      ]
     },
     "execution_count": 8,
     "metadata": {},
     "output_type": "execute_result"
    }
   ],
   "source": [
    "pyo.value(m.obj)"
   ]
  },
  {
   "cell_type": "code",
   "execution_count": 11,
   "metadata": {},
   "outputs": [
    {
     "name": "stdout",
     "output_type": "stream",
     "text": [
      "1 Set Declarations\n",
      "    setMachine : Size=1, Index=None, Ordered=Insertion\n",
      "        Key  : Dimen : Domain : Size : Members\n",
      "        None :     1 :    Any :    3 : {'A', 'B', 'C'}\n",
      "\n",
      "3 Var Declarations\n",
      "    B : Size=3, Index=setMachine\n",
      "        Key : Lower : Value                 : Upper : Fixed : Stale : Domain\n",
      "          A :     0 : 4.814776496596363e-08 :     1 : False : False : Binary\n",
      "          B :     0 :  0.009996842734666153 :     1 : False : False : Binary\n",
      "          C :     0 :                  None :     1 : False :  True : Binary\n",
      "    C : Size=3, Index=setMachine\n",
      "        Key : Lower : Value                 : Upper : Fixed : Stale : Domain\n",
      "          A :     0 : 8.829635190090135e-09 :  None : False : False :  Reals\n",
      "          B :     0 :     2999.056314325285 :  None : False : False :  Reals\n",
      "          C :     0 :   0.31622856160332996 :  None : False : False :  Reals\n",
      "    P : Size=3, Index=setMachine\n",
      "        Key : Lower : Value                 : Upper : Fixed : Stale : Domain\n",
      "          A :     0 : 8.098725828982153e-09 :  None : False : False : Integers\n",
      "          B :     0 :     9996.837719679725 :  None : False : False : Integers\n",
      "          C :     0 :    3.1622803121767427 :  None : False : False : Integers\n",
      "\n",
      "1 Objective Declarations\n",
      "    obj : Size=1, Index=None, Active=True\n",
      "        Key  : Active : Sense    : Expression\n",
      "        None :   True : minimize : C[A] + C[B] + C[C]\n",
      "\n",
      "6 Constraint Declarations\n",
      "    C1 : Size=1, Index=None, Active=True\n",
      "        Key  : Lower   : Body               : Upper   : Active\n",
      "        None : 10000.0 : P[A] + P[B] + P[C] : 10000.0 :   True\n",
      "    C2 : Size=1, Index=None, Active=True\n",
      "        Key  : Lower : Body                                       : Upper : Active\n",
      "        None :   0.0 : C[A] - (0.1*P[A]**2 + 0.5*P[A] + 0.1*B[A]) :   0.0 :   True\n",
      "    C3 : Size=1, Index=None, Active=True\n",
      "        Key  : Lower : Body                         : Upper : Active\n",
      "        None :   0.0 : C[B] - (0.3*P[B] + 0.5*B[B]) :   0.0 :   True\n",
      "    C4 : Size=1, Index=None, Active=True\n",
      "        Key  : Lower : Body                : Upper : Active\n",
      "        None :   0.0 : C[C] - 0.01*P[C]**3 :   0.0 :   True\n",
      "    C5 : Size=1, Index=None, Active=True\n",
      "        Key  : Lower : Body                  : Upper : Active\n",
      "        None :  -Inf : P[A] - 1000000.0*B[A] :   0.0 :   True\n",
      "    C6 : Size=1, Index=None, Active=True\n",
      "        Key  : Lower : Body                  : Upper : Active\n",
      "        None :  -Inf : P[B] - 1000000.0*B[B] :   0.0 :   True\n",
      "\n",
      "11 Declarations: setMachine C P B obj C1 C2 C3 C4 C5 C6\n",
      "\n",
      "\n",
      "OF: 2999.3725428957177\n"
     ]
    }
   ],
   "source": [
    "import pyomo.environ as pyo\n",
    "from pyomo.opt import SolverFactory\n",
    "\n",
    "m = pyo.ConcreteModel()\n",
    "\n",
    "#sets and parameters\n",
    "m.setMachine = pyo.Set(initialize=['A','B','C'])\n",
    "m.Demand = 10000\n",
    "M = 1e6\n",
    "\n",
    "#variables\n",
    "m.C = pyo.Var(m.setMachine, bounds=(0,None))\n",
    "m.P = pyo.Var(m.setMachine, within=pyo.Integers, bounds=(0,None))\n",
    "m.B = pyo.Var(m.setMachine, within=pyo.Binary)\n",
    "\n",
    "#objective function\n",
    "m.obj = pyo.Objective(expr = pyo.summation(m.C), sense=pyo.minimize)\n",
    "\n",
    "#constraints\n",
    "m.C1 = pyo.Constraint(expr = pyo.summation(m.P) == m.Demand)\n",
    "m.C2 = pyo.Constraint(expr = m.C['A'] == 0.1*m.P['A']**2 + 0.5*m.P['A'] + m.B['A']*0.1)\n",
    "m.C3 = pyo.Constraint(expr = m.C['B'] == 0.3*m.P['B'] + m.B['B']*0.5)\n",
    "m.C4 = pyo.Constraint(expr = m.C['C'] == 0.01*m.P['C']**3)\n",
    "\n",
    "m.C5 = pyo.Constraint(expr = m.P['A'] <= m.B['A']*M)\n",
    "m.C6 = pyo.Constraint(expr = m.P['B'] <= m.B['B']*M)\n",
    "\n",
    "#solve\n",
    "opt     = SolverFactory('ipopt')\n",
    "#opt = SolverFactory('couenne')\n",
    "m.results = opt.solve(m)\n",
    "\n",
    "#print\n",
    "m.pprint()\n",
    "\n",
    "print('\\n\\nOF:',pyo.value(m.obj))"
   ]
  },
  {
   "cell_type": "code",
   "execution_count": null,
   "metadata": {},
   "outputs": [],
   "source": []
  },
  {
   "cell_type": "code",
   "execution_count": 13,
   "metadata": {},
   "outputs": [
    {
     "name": "stdout",
     "output_type": "stream",
     "text": [
      "2 Set Declarations\n",
      "    C3_index : Size=1, Index=None, Ordered=Insertion\n",
      "        Key  : Dimen : Domain : Size : Members\n",
      "        None :     1 :    Any :    3 : {1, 2, 3}\n",
      "    x_index : Size=1, Index=None, Ordered=Insertion\n",
      "        Key  : Dimen : Domain : Size : Members\n",
      "        None :     2 :    Any :    7 : {('A', 'P1'), ('A', 'P2'), ('P1', 'P2'), ('P2', 'P1'), ('P1', 'B'), ('P2', 'P3'), ('P3', 'B')}\n",
      "\n",
      "1 Var Declarations\n",
      "    x : Size=7, Index=x_index\n",
      "        Key          : Lower : Value : Upper : Fixed : Stale : Domain\n",
      "         ('A', 'P1') :     0 :   0.0 :     1 : False : False : Binary\n",
      "         ('A', 'P2') :     0 :   1.0 :     1 : False : False : Binary\n",
      "         ('P1', 'B') :     0 :   0.0 :     1 : False : False : Binary\n",
      "        ('P1', 'P2') :     0 :   0.0 :     1 : False : False : Binary\n",
      "        ('P2', 'P1') :     0 :   0.0 :     1 : False : False : Binary\n",
      "        ('P2', 'P3') :     0 :   1.0 :     1 : False : False : Binary\n",
      "         ('P3', 'B') :     0 :   1.0 :     1 : False : False : Binary\n",
      "\n",
      "1 Objective Declarations\n",
      "    obj : Size=1, Index=None, Active=True\n",
      "        Key  : Active : Sense    : Expression\n",
      "        None :   True : minimize : 2*x[A,P1] + 7*x[A,P2] + 10*x[P1,P2] + 10*x[P2,P1] + 30*x[P1,B] + 8*x[P2,P3] + 5*x[P3,B]\n",
      "\n",
      "3 Constraint Declarations\n",
      "    C1 : Size=1, Index=None, Active=True\n",
      "        Key  : Lower : Body              : Upper : Active\n",
      "        None :   1.0 : x[A,P1] + x[A,P2] :   1.0 :   True\n",
      "    C2 : Size=1, Index=None, Active=True\n",
      "        Key  : Lower : Body              : Upper : Active\n",
      "        None :   1.0 : x[P1,B] + x[P3,B] :   1.0 :   True\n",
      "    C3 : Size=3, Index=C3_index, Active=True\n",
      "        Key : Lower : Body                                       : Upper : Active\n",
      "          1 :   0.0 :  x[P1,P2] + x[P1,B] - (x[A,P1] + x[P2,P1]) :   0.0 :   True\n",
      "          2 :   0.0 : x[P2,P1] + x[P2,P3] - (x[A,P2] + x[P1,P2]) :   0.0 :   True\n",
      "          3 :   0.0 :                         x[P3,B] - x[P2,P3] :   0.0 :   True\n",
      "\n",
      "7 Declarations: x_index x obj C1 C2 C3_index C3\n",
      "\n",
      "\n",
      "OF: 20.0\n",
      "Route activated: A-P2\n",
      "Route activated: P2-P3\n",
      "Route activated: P3-B\n"
     ]
    }
   ],
   "source": [
    "import pyomo.environ as pyo\n",
    "from pyomo.opt import SolverFactory\n",
    "\n",
    "m = pyo.ConcreteModel()\n",
    "\n",
    "#sets of points\n",
    "m.setAllPoints = ['A','P1','P2','P3','B']\n",
    "m.setPoints = ['P1','P2','P3']\n",
    "\n",
    "#sets of routes from to\n",
    "m.setRoutes = [['A','P1'],['A','P2'],['P1','P2'],['P2','P1'],['P1','B'],['P2','P3'],['P3','B']]\n",
    "m.setRoutes_from = {key:[] for key in m.setAllPoints}\n",
    "m.setRoutes_to = {key:[] for key in m.setAllPoints}\n",
    "for route in m.setRoutes:\n",
    "    m.setRoutes_from[route[0]].append(route[1])\n",
    "    m.setRoutes_to[route[1]].append(route[0])\n",
    "\n",
    "#parameters\n",
    "m.D = {}\n",
    "m.D['A','P1'] = 2\n",
    "m.D['A','P2'] = 7\n",
    "m.D['P1','P2'] = 10\n",
    "m.D['P2','P1'] = 10\n",
    "m.D['P1','B'] = 30\n",
    "m.D['P2','P3'] = 8\n",
    "m.D['P3','B'] = 5\n",
    "\n",
    "#variables\n",
    "m.x = pyo.Var(m.setRoutes, within=pyo.Binary)\n",
    "\n",
    "#objective function\n",
    "m.obj = pyo.Objective(expr = sum([\n",
    "    m.x[route[0], route[1]] * m.D[route[0], route[1]]\n",
    "    for route in m.setRoutes\n",
    "    ]), sense=pyo.minimize)\n",
    "\n",
    "#constraints --> TIP: run the code and print m.setRoutes_from and m.setRoutes_to, and check the SETs of the problem\n",
    "#you can replace m.setRoutes_from['A'] for 'P1', 'P2'], it would work for this problem, but not for a other network\n",
    "m.C1 = pyo.Constraint(expr = sum([m.x['A',j] for j in m.setRoutes_from['A']]) == 1)\n",
    "m.C2 = pyo.Constraint(expr = sum([m.x[i,'B'] for i in m.setRoutes_to['B']]) == 1)\n",
    "m.C3 = pyo.ConstraintList()\n",
    "for i in m.setPoints:\n",
    "    m.C3.add(sum([m.x[i,j] for j in m.setRoutes_from[i]]) == sum([m.x[j,i] for j in m.setRoutes_to[i]]))\n",
    "\n",
    "#solve\n",
    "#opt = SolverFactory('gurobi')\n",
    "opt     = SolverFactory('ipopt')\n",
    "\n",
    "m.results = opt.solve(m)\n",
    "\n",
    "#print\n",
    "m.pprint()\n",
    "print('\\n\\nOF:',pyo.value(m.obj))\n",
    "for route in m.setRoutes:\n",
    "    if pyo.value(m.x[route[0], route[1]]) >= 0.9:\n",
    "        print('Route activated: %s-%s' % (route[0], route[1]))"
   ]
  },
  {
   "cell_type": "code",
   "execution_count": null,
   "metadata": {},
   "outputs": [],
   "source": []
  }
 ],
 "metadata": {
  "interpreter": {
   "hash": "e7ab0ac95f0eadb0c5f0d14c731e1b216b2c5fa04910bea8aec954544de0021d"
  },
  "kernelspec": {
   "display_name": "Python 3",
   "language": "python",
   "name": "python3"
  },
  "language_info": {
   "codemirror_mode": {
    "name": "ipython",
    "version": 3
   },
   "file_extension": ".py",
   "mimetype": "text/x-python",
   "name": "python",
   "nbconvert_exporter": "python",
   "pygments_lexer": "ipython3",
   "version": "3.9.2"
  }
 },
 "nbformat": 4,
 "nbformat_minor": 4
}
