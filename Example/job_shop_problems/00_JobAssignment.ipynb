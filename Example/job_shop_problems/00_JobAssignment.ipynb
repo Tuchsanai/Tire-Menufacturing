{
 "cells": [
  {
   "cell_type": "markdown",
   "metadata": {
    "id": "QwwxuDutY4dx"
   },
   "source": [
    "From Operations Research: Models and Methods by Jensen & Bard*\n",
    "\n",
    "Ten jobs are to be completed by three workers during the next week. Each worker has a 40-hour work week. The times for the workers to complete the jobs are shown in the table. The values in the cells assume that each job is completed by a single worker; however, jobs can be shared, with completion times being determined proportionally If no entry exists in a particular cell, it means that the corresponding job cannot be performed by the corresponding worker. Set up and solve an LP model that will determine the optimal assignment of workers to jobs. The goal is to minimize the total time required to complete all the jobs.\n",
    "\n",
    "| Workers \\ Tasks |  1 |  2 |  3 |  4 |  5 |  6 |  7 |  8 |  9 | 10 |\n",
    "|:---------------:|---:|---:|---:|---:|---:|---:|---:|---:|---:|---:|\n",
    "| A               |  - |  7 |  3 |  - |  - | 18 | 13 |  6 |  - |  9 |\n",
    "| B               | 12 |  5 |  - | 12 |  4 | 22 |  - | 17 | 13 |  - |\n",
    "| C               | 18 |  - |  6 |  8 | 10 |  - | 19 |  - |  8 | 15 |"
   ]
  },
  {
   "cell_type": "markdown",
   "metadata": {},
   "source": []
  },
  {
   "cell_type": "markdown",
   "metadata": {},
   "source": [
    "## Model\n",
    "Define $W$ as the set of workers and $T$ as the sets of tasks. Also, define $c_{wt}$ as the number of hours worker $w$ requires to complete task $t$. (Note that we do not explicitly prohibit a worker from completiting as task; rather, we make the cost arbitrarily large if worker $w$ is unable to perform task $t$.) Let $x_{wt}$ be the proportion of task $t$ that is completed by worker $j$. Let $H$ be the max number of hours that any single worker may log in a week. We formulate as follows.\n",
    "\n",
    "\n",
    "$$\n",
    "\\begin{alignat*}{3}\n",
    "\\text{minimize  }  & \\sum_{w \\in W} \\sum_{t \\in T} c_{wt} x_{wt} && \\\\\n",
    "\\text{subject to  }\n",
    "& \\sum_{t \\in T} c_{wt} x_{wt} \\le H,\n",
    "&& \\qquad \\forall w \\in W \\\\\n",
    "& \\sum_{w \\in W} x_{wt} = 1\n",
    "&& \\qquad \\forall t \\in T \\\\\n",
    "& 0 \\le x_{wt} \\le 1,\n",
    "&& \\qquad \\forall w \\in W, \\forall t \\in T\n",
    "\\end{alignat*}\n",
    "$$"
   ]
  },
  {
   "cell_type": "markdown",
   "metadata": {
    "id": "u5jVqsiKOWUA"
   },
   "source": [
    " ### Google Colab"
   ]
  },
  {
   "cell_type": "code",
   "execution_count": null,
   "metadata": {
    "colab": {
     "base_uri": "https://localhost:8080/"
    },
    "id": "tPShLQIMOMiY",
    "outputId": "44777e2f-566b-41f3-ab59-11198a84a85c"
   },
   "outputs": [
    {
     "name": "stdout",
     "output_type": "stream",
     "text": [
      "\u001b[K     |████████████████████████████████| 9.2 MB 5.0 MB/s \n",
      "\u001b[K     |████████████████████████████████| 49 kB 853 kB/s \n",
      "\u001b[?25h"
     ]
    }
   ],
   "source": [
    "!pip install -q pyomo\n",
    "!wget -N -q \"https://ampl.com/dl/open/ipopt/ipopt-linux64.zip\"\n",
    "!unzip -o -q ipopt-linux64\n",
    "ipopt_executable = '/content/ipopt'"
   ]
  },
  {
   "cell_type": "markdown",
   "metadata": {
    "id": "nsBeECnYOkq6"
   },
   "source": [
    "## Mac-OS"
   ]
  },
  {
   "cell_type": "code",
   "execution_count": null,
   "metadata": {
    "id": "aiT5As1jOMrX"
   },
   "outputs": [],
   "source": [
    "!pip install -q pyomo\n",
    "!curl -s https://ampl.com/dl/open/ipopt/ipopt-osx.zip --output ipopt-osx.zip\n",
    "!tar xf ipopt-osx.zip ipopt\n",
    "ipopt_executable = \"./ipopt\"\n",
    "!rm ipopt-osx.zip"
   ]
  },
  {
   "cell_type": "markdown",
   "metadata": {
    "id": "SLcX-GAJOwty"
   },
   "source": [
    "## Window PC"
   ]
  },
  {
   "cell_type": "code",
   "execution_count": null,
   "metadata": {
    "id": "IDVm0LPtO5sn"
   },
   "outputs": [],
   "source": [
    "!conda install -c conda-forge pyomo pyomo.extras\n",
    "!conda install -c conda-forge/label/cf201901 ipopt "
   ]
  },
  {
   "cell_type": "code",
   "execution_count": null,
   "metadata": {},
   "outputs": [],
   "source": []
  },
  {
   "cell_type": "markdown",
   "metadata": {},
   "source": []
  },
  {
   "cell_type": "code",
   "execution_count": 20,
   "metadata": {
    "id": "UQuj-XnpEiu5"
   },
   "outputs": [],
   "source": [
    "from pyomo.environ import *\n",
    "\n",
    "import matplotlib.pyplot as plt\n",
    "import random \n",
    "import pandas as pd"
   ]
  },
  {
   "cell_type": "code",
   "execution_count": 47,
   "metadata": {},
   "outputs": [],
   "source": [
    "workers = {'A', 'B', 'C'}\n",
    "\n",
    "tasks = set(range(1, 11))\n",
    "\n",
    "c = {\n",
    "    ('A',  2):  7,\n",
    "    ('A',  3):  3,\n",
    "    ('A',  6): 18,\n",
    "    ('A',  7): 13,\n",
    "    ('A',  8):  6,\n",
    "    ('A', 10):  9,\n",
    "    ('B',  1): 12,\n",
    "    ('B',  2):  5,\n",
    "    ('B',  4): 12,\n",
    "    ('B',  5):  4,\n",
    "    ('B',  6): 22,\n",
    "    ('B',  8): 17,\n",
    "    ('B',  9): 13,\n",
    "    ('C',  1): 18,\n",
    "    ('C',  3):  6,\n",
    "    ('C',  4):  8,\n",
    "    ('C',  5): 10,\n",
    "    ('C',  7): 19,\n",
    "    ('C',  9):  8,\n",
    "    ('C', 10): 15,\n",
    "}\n",
    "\n",
    "max_hours = 40"
   ]
  },
  {
   "cell_type": "code",
   "execution_count": 48,
   "metadata": {},
   "outputs": [
    {
     "name": "stdout",
     "output_type": "stream",
     "text": [
      "WARNING: Initializing ordered Set workers with a fundamentally unordered data\n",
      "    source (type: set).  This WILL potentially lead to nondeterministic\n",
      "    behavior in Pyomo\n",
      "WARNING: Initializing ordered Set tasks with a fundamentally unordered data\n",
      "    source (type: set).  This WILL potentially lead to nondeterministic\n",
      "    behavior in Pyomo\n"
     ]
    }
   ],
   "source": [
    "model = ConcreteModel()\n",
    "#model = AbstractModel()\n",
    "\n",
    "model.workers = Set(initialize=workers)\n",
    "model.tasks =   Set(initialize=tasks)"
   ]
  },
  {
   "cell_type": "code",
   "execution_count": 49,
   "metadata": {},
   "outputs": [],
   "source": [
    "model.c         = Param(model.workers, model.tasks, initialize=c, default=1000)\n",
    "model.max_hours = Param(initialize=max_hours)"
   ]
  },
  {
   "cell_type": "code",
   "execution_count": 50,
   "metadata": {},
   "outputs": [],
   "source": [
    "model.x = Var(model.workers, model.tasks, domain=Reals, bounds=(0, 1))\n",
    "#model.x = Var(model.workers, model.tasks, domain=Binary, bounds=(0, 1))\n",
    "\n"
   ]
  },
  {
   "cell_type": "code",
   "execution_count": 51,
   "metadata": {
    "id": "fGcGp7H7Eiu7"
   },
   "outputs": [],
   "source": [
    "expr = sum(model.c[w, t] * model.x[w, t] for w in model.workers for t in model.tasks)\n",
    "\n",
    "\n",
    "model.objective = Objective(sense=minimize, expr=expr)\n"
   ]
  },
  {
   "cell_type": "code",
   "execution_count": 52,
   "metadata": {},
   "outputs": [],
   "source": [
    "model.tasks_done = ConstraintList()\n",
    "\n",
    "for t in model.tasks:\n",
    "    lhs = sum(model.x[w, t] for w in model.workers)\n",
    "    rhs = 1\n",
    "    model.tasks_done.add(lhs == rhs)"
   ]
  },
  {
   "cell_type": "code",
   "execution_count": 53,
   "metadata": {},
   "outputs": [],
   "source": [
    "model.hour_limit = ConstraintList()\n",
    "\n",
    "for w in model.workers:\n",
    "    lhs = sum(model.c[w, t] * model.x[w, t] for t in model.tasks)\n",
    "    rhs = model.max_hours\n",
    "    model.hour_limit.add(lhs <= rhs)"
   ]
  },
  {
   "cell_type": "code",
   "execution_count": 54,
   "metadata": {},
   "outputs": [
    {
     "name": "stdout",
     "output_type": "stream",
     "text": [
      "Ipopt 3.12.13: \n",
      "\n",
      "******************************************************************************\n",
      "This program contains Ipopt, a library for large-scale nonlinear optimization.\n",
      " Ipopt is released as open source code under the Eclipse Public License (EPL).\n",
      "         For more information visit http://projects.coin-or.org/Ipopt\n",
      "******************************************************************************\n",
      "\n",
      "This is Ipopt version 3.12.13, running with linear solver mumps.\n",
      "NOTE: Other linear solvers might be more efficient (see Ipopt documentation).\n",
      "\n",
      "Number of nonzeros in equality constraint Jacobian...:       30\n",
      "Number of nonzeros in inequality constraint Jacobian.:       30\n",
      "Number of nonzeros in Lagrangian Hessian.............:        0\n",
      "\n",
      "Total number of variables............................:       30\n",
      "                     variables with only lower bounds:        0\n",
      "                variables with lower and upper bounds:       30\n",
      "                     variables with only upper bounds:        0\n",
      "Total number of equality constraints.................:       10\n",
      "Total number of inequality constraints...............:        3\n",
      "        inequality constraints with only lower bounds:        0\n",
      "   inequality constraints with lower and upper bounds:        0\n",
      "        inequality constraints with only upper bounds:        3\n",
      "\n",
      "iter    objective    inf_pr   inf_du lg(mu)  ||d||  lg(rg) alpha_du alpha_pr  ls\n",
      "   0  1.0224990e+02 9.70e-01 2.00e+00  -1.0 0.00e+00    -  0.00e+00 0.00e+00   0\n",
      "   1  9.5053676e+01 4.31e-01 2.13e+01  -1.0 5.40e-01    -  2.44e-02 5.55e-01f  1\n",
      "   2  9.4723497e+01 4.17e-01 3.39e+01  -1.0 7.35e-01    -  5.40e-01 3.24e-02h  1\n",
      "   3  7.7814587e+01 3.54e-01 2.31e+01  -1.0 1.18e+01    -  7.39e-02 1.51e-01f  1\n",
      "   4  1.0022828e+02 1.76e-01 4.68e+01  -1.0 3.73e+00    -  1.00e+00 5.02e-01h  1\n",
      "   5  1.0173588e+02 5.42e-02 3.41e+01  -1.0 1.59e+00    -  9.60e-01 6.93e-01h  1\n",
      "   6  1.0681709e+02 2.22e-16 1.00e-06  -1.0 6.60e-01    -  1.00e+00 1.00e+00h  1\n",
      "   7  9.9895265e+01 2.22e-16 2.15e+01  -1.7 5.31e-01    -  5.42e-01 1.00e+00f  1\n",
      "   8  9.4125396e+01 1.11e-16 2.00e-07  -1.7 7.56e-01    -  1.00e+00 1.00e+00f  1\n",
      "   9  8.9172753e+01 1.11e-16 3.88e-01  -2.5 4.78e-01    -  8.47e-01 1.00e+00f  1\n",
      "iter    objective    inf_pr   inf_du lg(mu)  ||d||  lg(rg) alpha_du alpha_pr  ls\n",
      "  10  8.8812487e+01 0.00e+00 2.83e-08  -2.5 3.88e-02    -  1.00e+00 1.00e+00f  1\n",
      "  11  8.8051016e+01 2.22e-16 1.50e-09  -3.8 7.90e-02    -  1.00e+00 1.00e+00f  1\n",
      "  12  8.8000445e+01 1.11e-16 1.84e-11  -5.7 5.04e-03    -  1.00e+00 1.00e+00f  1\n",
      "  13  8.7999893e+01 1.11e-16 2.51e-14  -8.6 5.31e-05    -  1.00e+00 1.00e+00f  1\n",
      "\n",
      "Number of Iterations....: 13\n",
      "\n",
      "                                   (scaled)                 (unscaled)\n",
      "Objective...............:   8.7999892503477142e+00    8.7999892503477142e+01\n",
      "Dual infeasibility......:   2.5063284780912909e-14    1.2420544278545160e-13\n",
      "Constraint violation....:   1.1102230246251565e-16    1.1102230246251565e-16\n",
      "Complementarity.........:   4.9128511665980991e-09    4.9128511665980987e-08\n",
      "Overall NLP error.......:   4.9128511665980991e-09    4.9128511665980987e-08\n",
      "\n",
      "\n",
      "Number of objective function evaluations             = 14\n",
      "Number of objective gradient evaluations             = 14\n",
      "Number of equality constraint evaluations            = 14\n",
      "Number of inequality constraint evaluations          = 14\n",
      "Number of equality constraint Jacobian evaluations   = 14\n",
      "Number of inequality constraint Jacobian evaluations = 14\n",
      "Number of Lagrangian Hessian evaluations             = 13\n",
      "Total CPU secs in IPOPT (w/o function evaluations)   =      0.014\n",
      "Total CPU secs in NLP function evaluations           =      0.000\n",
      "\n",
      "EXIT: Optimal Solution Found.\n",
      "\b"
     ]
    }
   ],
   "source": [
    "opt = SolverFactory('ipopt')\n",
    "results = opt.solve(model, tee=True)"
   ]
  },
  {
   "cell_type": "code",
   "execution_count": 55,
   "metadata": {},
   "outputs": [],
   "source": [
    "df = pd.DataFrame(index=pd.MultiIndex.from_tuples(model.x, names=['w', 't']))\n",
    "df['x'] = [value(model.x[key]) for key in df.index]\n",
    "df['c'] = [model.c[key] for key in df.index]\n"
   ]
  },
  {
   "cell_type": "code",
   "execution_count": 56,
   "metadata": {},
   "outputs": [
    {
     "data": {
      "text/html": [
       "<div>\n",
       "<style scoped>\n",
       "    .dataframe tbody tr th:only-of-type {\n",
       "        vertical-align: middle;\n",
       "    }\n",
       "\n",
       "    .dataframe tbody tr th {\n",
       "        vertical-align: top;\n",
       "    }\n",
       "\n",
       "    .dataframe thead th {\n",
       "        text-align: right;\n",
       "    }\n",
       "</style>\n",
       "<table border=\"1\" class=\"dataframe\">\n",
       "  <thead>\n",
       "    <tr style=\"text-align: right;\">\n",
       "      <th>t</th>\n",
       "      <th>1</th>\n",
       "      <th>2</th>\n",
       "      <th>3</th>\n",
       "      <th>4</th>\n",
       "      <th>5</th>\n",
       "      <th>6</th>\n",
       "      <th>7</th>\n",
       "      <th>8</th>\n",
       "      <th>9</th>\n",
       "      <th>10</th>\n",
       "    </tr>\n",
       "    <tr>\n",
       "      <th>w</th>\n",
       "      <th></th>\n",
       "      <th></th>\n",
       "      <th></th>\n",
       "      <th></th>\n",
       "      <th></th>\n",
       "      <th></th>\n",
       "      <th></th>\n",
       "      <th></th>\n",
       "      <th></th>\n",
       "      <th></th>\n",
       "    </tr>\n",
       "  </thead>\n",
       "  <tbody>\n",
       "    <tr>\n",
       "      <th>A</th>\n",
       "      <td>0.0</td>\n",
       "      <td>0.0</td>\n",
       "      <td>3.0</td>\n",
       "      <td>0.0</td>\n",
       "      <td>0.0</td>\n",
       "      <td>9.0</td>\n",
       "      <td>13.0</td>\n",
       "      <td>6.0</td>\n",
       "      <td>0.0</td>\n",
       "      <td>9.0</td>\n",
       "    </tr>\n",
       "    <tr>\n",
       "      <th>B</th>\n",
       "      <td>12.0</td>\n",
       "      <td>5.0</td>\n",
       "      <td>0.0</td>\n",
       "      <td>0.0</td>\n",
       "      <td>4.0</td>\n",
       "      <td>11.0</td>\n",
       "      <td>0.0</td>\n",
       "      <td>0.0</td>\n",
       "      <td>0.0</td>\n",
       "      <td>0.0</td>\n",
       "    </tr>\n",
       "    <tr>\n",
       "      <th>C</th>\n",
       "      <td>0.0</td>\n",
       "      <td>0.0</td>\n",
       "      <td>0.0</td>\n",
       "      <td>8.0</td>\n",
       "      <td>0.0</td>\n",
       "      <td>0.0</td>\n",
       "      <td>0.0</td>\n",
       "      <td>0.0</td>\n",
       "      <td>8.0</td>\n",
       "      <td>0.0</td>\n",
       "    </tr>\n",
       "  </tbody>\n",
       "</table>\n",
       "</div>"
      ],
      "text/plain": [
       "t    1    2    3    4    5     6     7    8    9    10\n",
       "w                                                     \n",
       "A   0.0  0.0  3.0  0.0  0.0   9.0  13.0  6.0  0.0  9.0\n",
       "B  12.0  5.0  0.0  0.0  4.0  11.0   0.0  0.0  0.0  0.0\n",
       "C   0.0  0.0  0.0  8.0  0.0   0.0   0.0  0.0  8.0  0.0"
      ]
     },
     "execution_count": 56,
     "metadata": {},
     "output_type": "execute_result"
    }
   ],
   "source": [
    "(df['c'] * df['x']).unstack('t').round()"
   ]
  },
  {
   "cell_type": "code",
   "execution_count": 57,
   "metadata": {},
   "outputs": [
    {
     "data": {
      "text/html": [
       "<div>\n",
       "<style scoped>\n",
       "    .dataframe tbody tr th:only-of-type {\n",
       "        vertical-align: middle;\n",
       "    }\n",
       "\n",
       "    .dataframe tbody tr th {\n",
       "        vertical-align: top;\n",
       "    }\n",
       "\n",
       "    .dataframe thead th {\n",
       "        text-align: right;\n",
       "    }\n",
       "</style>\n",
       "<table border=\"1\" class=\"dataframe\">\n",
       "  <thead>\n",
       "    <tr style=\"text-align: right;\">\n",
       "      <th></th>\n",
       "      <th>0</th>\n",
       "    </tr>\n",
       "    <tr>\n",
       "      <th>w</th>\n",
       "      <th></th>\n",
       "    </tr>\n",
       "  </thead>\n",
       "  <tbody>\n",
       "    <tr>\n",
       "      <th>A</th>\n",
       "      <td>40.000040</td>\n",
       "    </tr>\n",
       "    <tr>\n",
       "      <th>B</th>\n",
       "      <td>31.999951</td>\n",
       "    </tr>\n",
       "    <tr>\n",
       "      <th>C</th>\n",
       "      <td>16.000001</td>\n",
       "    </tr>\n",
       "  </tbody>\n",
       "</table>\n",
       "</div>"
      ],
      "text/plain": [
       "           0\n",
       "w           \n",
       "A  40.000040\n",
       "B  31.999951\n",
       "C  16.000001"
      ]
     },
     "execution_count": 57,
     "metadata": {},
     "output_type": "execute_result"
    }
   ],
   "source": [
    "(df['c'] * df['x']).groupby('w').sum().to_frame()"
   ]
  },
  {
   "cell_type": "code",
   "execution_count": 58,
   "metadata": {},
   "outputs": [
    {
     "data": {
      "text/html": [
       "<div>\n",
       "<style scoped>\n",
       "    .dataframe tbody tr th:only-of-type {\n",
       "        vertical-align: middle;\n",
       "    }\n",
       "\n",
       "    .dataframe tbody tr th {\n",
       "        vertical-align: top;\n",
       "    }\n",
       "\n",
       "    .dataframe thead th {\n",
       "        text-align: right;\n",
       "    }\n",
       "</style>\n",
       "<table border=\"1\" class=\"dataframe\">\n",
       "  <thead>\n",
       "    <tr style=\"text-align: right;\">\n",
       "      <th>t</th>\n",
       "      <th>1</th>\n",
       "      <th>2</th>\n",
       "      <th>3</th>\n",
       "      <th>4</th>\n",
       "      <th>5</th>\n",
       "      <th>6</th>\n",
       "      <th>7</th>\n",
       "      <th>8</th>\n",
       "      <th>9</th>\n",
       "      <th>10</th>\n",
       "    </tr>\n",
       "  </thead>\n",
       "  <tbody>\n",
       "    <tr>\n",
       "      <th>x</th>\n",
       "      <td>1.0</td>\n",
       "      <td>1.0</td>\n",
       "      <td>1.0</td>\n",
       "      <td>1.0</td>\n",
       "      <td>1.0</td>\n",
       "      <td>1.0</td>\n",
       "      <td>1.0</td>\n",
       "      <td>1.0</td>\n",
       "      <td>1.0</td>\n",
       "      <td>1.0</td>\n",
       "    </tr>\n",
       "  </tbody>\n",
       "</table>\n",
       "</div>"
      ],
      "text/plain": [
       "t   1    2    3    4    5    6    7    8    9    10\n",
       "x  1.0  1.0  1.0  1.0  1.0  1.0  1.0  1.0  1.0  1.0"
      ]
     },
     "execution_count": 58,
     "metadata": {},
     "output_type": "execute_result"
    }
   ],
   "source": [
    "df['x'].groupby('t').sum().to_frame().T"
   ]
  },
  {
   "cell_type": "code",
   "execution_count": null,
   "metadata": {},
   "outputs": [],
   "source": []
  }
 ],
 "metadata": {
  "colab": {
   "name": "03_Heron problem.ipynb",
   "provenance": []
  },
  "kernelspec": {
   "display_name": "Python 3",
   "language": "python",
   "name": "python3"
  },
  "language_info": {
   "codemirror_mode": {
    "name": "ipython",
    "version": 3
   },
   "file_extension": ".py",
   "mimetype": "text/x-python",
   "name": "python",
   "nbconvert_exporter": "python",
   "pygments_lexer": "ipython3",
   "version": "3.9.2"
  }
 },
 "nbformat": 4,
 "nbformat_minor": 4
}
