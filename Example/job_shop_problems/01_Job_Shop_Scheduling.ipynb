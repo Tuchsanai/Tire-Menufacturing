{
  "cells": [
    {
      "cell_type": "markdown",
      "metadata": {
        "id": "lffHCSpHshoF",
        "nbpages": {
          "level": 2,
          "link": "[4.3.2 Background](https://jckantor.github.io/ND-Pyomo-Cookbook/04.03-Job-Shop-Scheduling.html#4.3.2-Background)",
          "section": "4.3.2 Background"
        },
        "pycharm": {}
      },
      "source": [
        "## Background\n",
        "\n",
        "A job shop consists of a set of distinct machines that process jobs. Each job is a series of tasks that require use of particular machines for known durations, and which must be completed in specified order. The job shop scheduling problem is to schedule the jobs on the machines to minimize the time necessary to process all jobs (i.e, the makespan) or some other metric of productivity. Job shop scheduling is one of the classic problems in Operations Research. \n",
        "\n",
        "Data consists of two tables. The first table is decomposition of the jobs into a series of tasks. Each task lists a job name, name of the required machine, and task duration. The second table list task pairs where the first task must be completed before the second task can be started. This formulation is quite general, but can also specify situations with no feasible solutions.  "
      ]
    },
    {
      "cell_type": "markdown",
      "metadata": {
        "id": "N5nzDplWPHBV",
        "nbpages": {
          "level": 2,
          "link": "[4.3.3 Job shop example](https://jckantor.github.io/ND-Pyomo-Cookbook/04.03-Job-Shop-Scheduling.html#4.3.3-Job-shop-example)",
          "section": "4.3.3 Job shop example"
        },
        "pycharm": {}
      },
      "source": [
        "## Job shop example\n",
        "\n",
        "The following example of a job shop is from from Christelle Gueret, Christian Prins, Marc Sevaux, \"Applications of Optimization with Xpress-MP,\" Dash Optimization, 2000.\n",
        "\n",
        "In this example, there are three printed paper products that must pass through color printing presses in a particular order. The given data consists of a flowsheet showing the order in which each job passes through the color presses\n",
        "\n",
        "![jobshopdiagram.jpg](https://github.com/jckantor/ND-Pyomo-Cookbook/blob/master/notebooks/figures/jobshopdiagram.jpg?raw=1)\n",
        "\n",
        "and a table of data showing, in minutes, the amount of time each job requires on each machine.\n",
        "\n",
        "| Machine | Color | Paper 1 | Paper 2 | Paper 3 |\n",
        "| :-----: | :---: | :-----: | :-----: | :-----: |\n",
        "| 1       | Blue  | 45      | 20      | 12      |\n",
        "| 2       | Green | -       | 10      | 17      |\n",
        "| 3       | Yellow| 10      | 34      | 28      |\n",
        "\n",
        "What is the minimum amount of time (i.e, what is the makespan) for this set of jobs?"
      ]
    },
    {
      "cell_type": "markdown",
      "metadata": {
        "id": "6aYVOOd7PHBV",
        "nbpages": {
          "level": 2,
          "link": "[4.3.4 Task decomposition](https://jckantor.github.io/ND-Pyomo-Cookbook/04.03-Job-Shop-Scheduling.html#4.3.4-Task-decomposition)",
          "section": "4.3.4 Task decomposition"
        },
        "pycharm": {}
      },
      "source": [
        "## 4.3.4 Task decomposition\n",
        "\n",
        "The first step in the analysis is to decompose the process into a series of tasks. Each task is a (job,machine) pair. Some tasks cannot start until a prerequisite task is completed.\n",
        "\n",
        "| Task (Job,Machine) | Duration | Prerequisite Task |\n",
        "| :----------------: | :------: | :---------------: |\n",
        "| (Paper 1, Blue)    | 45       | -                 |\n",
        "| (Paper 1, Yellow)  | 10       | (Paper 1,Blue)    |\n",
        "| (Paper 2, Blue)    | 20       | (Paper 2, Green)  |\n",
        "| (Paper 2, Green)   | 10       | -                 |\n",
        "| (Paper 2, Yellow)  | 34       | (Paper 2, Blue)   |\n",
        "| (Paper 3, Blue)    | 12       | (Paper 3, Yellow) |\n",
        "| (Paper 3, Green)   | 17       | (Paper 3, Blue)   |\n",
        "| (Paper 3, Yellow)  | 28       | -                 |\n",
        "\n",
        "We convert this to a JSON style representation where tasks are denoted by (Job,Machine) tuples in Python. The task data is stored in a Python dictionary indexed by (Job,Machine) tuples. The task data conists of a dictionary with duration ('dur') and (Job,Machine) pair for any prerequisite task."
      ]
    },
    {
      "cell_type": "code",
      "execution_count": null,
      "metadata": {
        "id": "0k5vVxKIshoF",
        "nbpages": {
          "level": 2,
          "link": "[4.3.4 Task decomposition](https://jckantor.github.io/ND-Pyomo-Cookbook/04.03-Job-Shop-Scheduling.html#4.3.4-Task-decomposition)",
          "section": "4.3.4 Task decomposition"
        },
        "pycharm": {}
      },
      "outputs": [],
      "source": [
        "TASKS = {\n",
        "    ('Paper_1','Blue')   : {'dur': 45, 'prec': None},\n",
        "    ('Paper_1','Yellow') : {'dur': 10, 'prec': ('Paper_1','Blue')},\n",
        "    ('Paper_2','Blue')   : {'dur': 20, 'prec': ('Paper_2','Green')},\n",
        "    ('Paper_2','Green')  : {'dur': 10, 'prec': None},\n",
        "    ('Paper_2','Yellow') : {'dur': 34, 'prec': ('Paper_2','Blue')},\n",
        "    ('Paper_3','Blue')   : {'dur': 12, 'prec': ('Paper_3','Yellow')},\n",
        "    ('Paper_3','Green')  : {'dur': 17, 'prec': ('Paper_3','Blue')},\n",
        "    ('Paper_3','Yellow') : {'dur': 28, 'prec': None},   \n",
        "}"
      ]
    },
    {
      "cell_type": "markdown",
      "metadata": {
        "id": "F4nmNpnhshoI",
        "nbpages": {
          "level": 2,
          "link": "[4.3.5 Model formulation](https://jckantor.github.io/ND-Pyomo-Cookbook/04.03-Job-Shop-Scheduling.html#4.3.5-Model-formulation)",
          "section": "4.3.5 Model formulation"
        },
        "pycharm": {}
      },
      "source": [
        "## 4.3.5 Model formulation\n",
        "\n",
        "Each task is indexed by an ordered pair $(j,m)$ where $j$ is a job, and $m$ is a machine. Associated with each task is data describing the time needed to perform the task, and a preceeding task that must be completed before the index task can start.\n",
        "\n",
        "| Parameter | Description |\n",
        "| :-------- | :-----------|\n",
        "| $\\text{dur}_{j,m}$ | Duration of task $(j,m)$ | \n",
        "| $\\text{prec}_{j,m}$ | A task $(k,n) = \\text{prec}_{j,m}$ that must be completed before task $(j,m)$| \n",
        "\n",
        "The choice of decision variables for this problem are key to modeling. We introduce $makespan$ as the time needed to complete all tasks. $makespan$ is a candidate objective function. Variable $start_{j,m}$ denotes the time when task $(j,m)$ begins.  \n",
        "\n",
        "| Decision Variables | Description |\n",
        "| :-------- | :-----------|\n",
        "| $\\text{makespan}$  | Completion of all jobs | \n",
        "| $\\text{start}_{j,m}$ | Start time for task $(j,m)$ |\n",
        "\n",
        "The constraints include lower bounda on the start and an upper bound on the completion of each task $(j,m)$\n",
        "\n",
        "\\begin{align}\n",
        "\\text{start}_{j,m} & \\geq 0\\\\\n",
        "\\text{start}_{j,m}+\\text{dur}_{j,m} & \\leq \\text{makespan}\n",
        "\\end{align}\n",
        "\n",
        "Any preceeding tasks must be completed before task $(j,m)$ can start.\n",
        "\n",
        "\\begin{align}\n",
        "\\text{start}_{k,n}+\\text{dur}_{k,n}\\leq\\text{start}_{j,m}\\ \\ \\ \\ \\text{for } (k,n) =\\text{prec}_{j,m}\n",
        "\\end{align}\n",
        "\n",
        "Finally, for every task performed on machine $m$, there can be no overlap among those tasks. This leads to a set of pair-wise disjunctive constraints for each machine.\n",
        "\n",
        "\\begin{align}\n",
        "\\left[\\text{start}_{j,m}+\\text{dur}_{j,m} \\leq \\text{start}_{k,m}\\right] \\vee \\left[\\text{start}_{k,m}+\\text{dur}_{k,m} \\leq \\text{start}_{j,m}\\right]\n",
        "\\end{align}\n",
        "\n",
        "avoids conflicts for use of the same machine. "
      ]
    },
    {
      "cell_type": "markdown",
      "metadata": {
        "id": "HdNWs72ZPHBY",
        "nbpages": {
          "level": 2,
          "link": "[4.3.6 Pyomo implementation](https://jckantor.github.io/ND-Pyomo-Cookbook/04.03-Job-Shop-Scheduling.html#4.3.6-Pyomo-implementation)",
          "section": "4.3.6 Pyomo implementation"
        },
        "pycharm": {}
      },
      "source": [
        "## 4.3.6 Pyomo implementation\n",
        "\n",
        "The job shop scheduling problem is implemented below in Pyomo. The implementation consists of of a function JobShopModel(TASKS) that accepts a dictionary of tasks and returns a Pyomo model. "
      ]
    },
    {
      "cell_type": "code",
      "source": [
        "!pip install -q pyomo\n",
        "!wget -N -q \"https://ampl.com/dl/open/ipopt/ipopt-linux64.zip\"\n",
        "!unzip -o -q ipopt-linux64\n",
        "ipopt_executable = '/content/ipopt'"
      ],
      "metadata": {
        "id": "16t5YfVTgsQg"
      },
      "execution_count": 15,
      "outputs": []
    },
    {
      "cell_type": "code",
      "execution_count": null,
      "metadata": {
        "id": "0F88Zy8ugqo5"
      },
      "outputs": [],
      "source": [
        "%matplotlib inline\n",
        "import matplotlib.pyplot as plt\n",
        "import matplotlib as mpl\n",
        "import pandas as pd\n",
        "\n",
        "import shutil\n",
        "import sys\n",
        "import os.path\n",
        "\n",
        "\n",
        "from pyomo.environ import *\n",
        "from pyomo.gdp import *"
      ]
    },
    {
      "cell_type": "code",
      "execution_count": null,
      "metadata": {
        "colab": {
          "base_uri": "https://localhost:8080/",
          "height": 34
        },
        "id": "2nJ72N-rshoI",
        "nbpages": {
          "level": 2,
          "link": "[4.3.6 Pyomo implementation](https://jckantor.github.io/ND-Pyomo-Cookbook/04.03-Job-Shop-Scheduling.html#4.3.6-Pyomo-implementation)",
          "section": "4.3.6 Pyomo implementation"
        },
        "outputId": "6786b332-59e7-4c44-83e1-1341657c5942",
        "pycharm": {}
      },
      "outputs": [
        {
          "data": {
            "text/plain": [
              "<pyomo.core.base.PyomoModel.ConcreteModel at 0x1f0ae949e80>"
            ]
          },
          "execution_count": 7,
          "metadata": {},
          "output_type": "execute_result"
        }
      ],
      "source": [
        "def jobshop_model(TASKS):\n",
        "    \n",
        "    model = ConcreteModel()\n",
        "\n",
        "    # tasks is a two dimensional set of (j,m) constructed from the dictionary keys\n",
        "    model.TASKS = Set(initialize = TASKS.keys(), dimen=2)\n",
        "    \n",
        "    # the set of jobs is constructed from a python set\n",
        "    model.JOBS = Set(initialize = list(set([j for (j,m) in model.TASKS])))\n",
        "    \n",
        "    # set of machines is constructed from a python set\n",
        "    model.MACHINES = Set(initialize = list(set([m for (j,m) in model.TASKS])))\n",
        "    \n",
        "    # the order of tasks is constructed as a cross-product of tasks and filtering\n",
        "    model.TASKORDER = Set(initialize = model.TASKS * model.TASKS, dimen=4, \n",
        "        filter = lambda model, j, m, k, n: (k,n) == TASKS[(j,m)]['prec'])\n",
        "    \n",
        "    # the set of disjunctions is cross-product of jobs, jobs, and machines\n",
        "    model.DISJUNCTIONS = Set(initialize = model.JOBS * model.JOBS * model.MACHINES, dimen=3,\n",
        "        filter = lambda model, j, k, m: j < k and (j,m) in model.TASKS and (k,m) in model.TASKS)\n",
        "    \n",
        "    # load duration data into a model parameter for later access\n",
        "    model.dur = Param(model.TASKS, initialize=lambda model, j, m: TASKS[(j,m)]['dur'])\n",
        "\n",
        "    # establish an upper bound on makespan\n",
        "    ub = sum([model.dur[j, m] for (j,m) in model.TASKS])\n",
        "    \n",
        "    # create decision variables\n",
        "    model.makespan = Var(bounds=(0, ub))\n",
        "    model.start = Var(model.TASKS, bounds=(0, ub))\n",
        "    \n",
        "    model.objective = Objective(expr = model.makespan, sense = minimize)\n",
        "\n",
        "    model.finish = Constraint(model.TASKS, rule=lambda model, j, m:  \n",
        "        model.start[j,m] + model.dur[j,m] <= model.makespan)\n",
        "    \n",
        "    model.preceding = Constraint(model.TASKORDER, rule=lambda model, j, m, k, n: \n",
        "        model.start[k,n] + model.dur[k,n] <= model.start[j,m])\n",
        "    \n",
        "    model.disjunctions = Disjunction(model.DISJUNCTIONS, rule=lambda model,j,k,m:\n",
        "        [model.start[j,m] + model.dur[j,m] <= model.start[k,m], \n",
        "         model.start[k,m] + model.dur[k,m] <= model.start[j,m]])\n",
        "    \n",
        "    TransformationFactory('gdp.hull').apply_to(model)\n",
        "    return model\n",
        "\n",
        "jobshop_model(TASKS)"
      ]
    },
    {
      "cell_type": "code",
      "execution_count": null,
      "metadata": {
        "colab": {
          "base_uri": "https://localhost:8080/",
          "height": 697
        },
        "id": "VtQDkBmBPHBc",
        "nbpages": {
          "level": 2,
          "link": "[4.3.6 Pyomo implementation](https://jckantor.github.io/ND-Pyomo-Cookbook/04.03-Job-Shop-Scheduling.html#4.3.6-Pyomo-implementation)",
          "section": "4.3.6 Pyomo implementation"
        },
        "outputId": "649f46f0-31f8-4113-e667-858fee72a315",
        "pycharm": {}
      },
      "outputs": [
        {
          "data": {
            "text/plain": [
              "[{'Job': 'Paper_1',\n",
              "  'Machine': 'Blue',\n",
              "  'Start': 13.538461524323154,\n",
              "  'Duration': 45,\n",
              "  'Finish': 58.538461524323154},\n",
              " {'Job': 'Paper_1',\n",
              "  'Machine': 'Yellow',\n",
              "  'Start': 58.53846107792186,\n",
              "  'Duration': 10,\n",
              "  'Finish': 68.53846107792185},\n",
              " {'Job': 'Paper_2',\n",
              "  'Machine': 'Blue',\n",
              "  'Start': 14.53846150514722,\n",
              "  'Duration': 20,\n",
              "  'Finish': 34.53846150514722},\n",
              " {'Job': 'Paper_2',\n",
              "  'Machine': 'Green',\n",
              "  'Start': 4.052835802623509,\n",
              "  'Duration': 10,\n",
              "  'Finish': 14.052835802623509},\n",
              " {'Job': 'Paper_2',\n",
              "  'Machine': 'Yellow',\n",
              "  'Start': 34.53846131332942,\n",
              "  'Duration': 34,\n",
              "  'Finish': 68.53846131332942},\n",
              " {'Job': 'Paper_3',\n",
              "  'Machine': 'Blue',\n",
              "  'Start': 37.661141275435796,\n",
              "  'Duration': 12,\n",
              "  'Finish': 49.661141275435796},\n",
              " {'Job': 'Paper_3',\n",
              "  'Machine': 'Green',\n",
              "  'Start': 50.131860603094665,\n",
              "  'Duration': 17,\n",
              "  'Finish': 67.13186060309467},\n",
              " {'Job': 'Paper_3',\n",
              "  'Machine': 'Yellow',\n",
              "  'Start': 8.93956169160594,\n",
              "  'Duration': 28,\n",
              "  'Finish': 36.93956169160594}]"
            ]
          },
          "execution_count": 8,
          "metadata": {},
          "output_type": "execute_result"
        }
      ],
      "source": [
        "def jobshop_solve(model):\n",
        "    opt = SolverFactory('ipopt')\n",
        "    SolverFactory('ipopt').solve(model)\n",
        "\n",
        "    results = [{'Job': j,\n",
        "                'Machine': m,\n",
        "                'Start': model.start[j, m](), \n",
        "                'Duration': model.dur[j,m], \n",
        "                'Finish': model.start[(j, m)]() + model.dur[j,m]}\n",
        "               for j,m in model.TASKS]\n",
        "    return results\n",
        "\n",
        "def jobshop(TASKS):\n",
        "    return jobshop_solve(jobshop_model(TASKS))\n",
        "\n",
        "results = jobshop(TASKS)\n",
        "results"
      ]
    },
    {
      "cell_type": "markdown",
      "metadata": {
        "id": "7uDCIyqpshoO",
        "nbpages": {
          "level": 2,
          "link": "[4.3.7 Printing schedules](https://jckantor.github.io/ND-Pyomo-Cookbook/04.03-Job-Shop-Scheduling.html#4.3.7-Printing-schedules)",
          "section": "4.3.7 Printing schedules"
        },
        "pycharm": {}
      },
      "source": [
        "## 4.3.7 Printing schedules"
      ]
    },
    {
      "cell_type": "code",
      "execution_count": null,
      "metadata": {
        "colab": {
          "base_uri": "https://localhost:8080/",
          "height": 425
        },
        "id": "ZmtO_2EeshoO",
        "nbpages": {
          "level": 2,
          "link": "[4.3.7 Printing schedules](https://jckantor.github.io/ND-Pyomo-Cookbook/04.03-Job-Shop-Scheduling.html#4.3.7-Printing-schedules)",
          "section": "4.3.7 Printing schedules"
        },
        "outputId": "fecdce9c-ddca-4aad-d7fe-c3d8fcebde8a",
        "pycharm": {}
      },
      "outputs": [
        {
          "name": "stdout",
          "output_type": "stream",
          "text": [
            "\n",
            "Schedule by Job\n",
            "                     Start  Duration     Finish\n",
            "Job     Machine                                \n",
            "Paper_1 Blue     13.538462        45  58.538462\n",
            "        Yellow   58.538461        10  68.538461\n",
            "Paper_2 Green     4.052836        10  14.052836\n",
            "        Blue     14.538462        20  34.538462\n",
            "        Yellow   34.538461        34  68.538461\n",
            "Paper_3 Yellow    8.939562        28  36.939562\n",
            "        Blue     37.661141        12  49.661141\n",
            "        Green    50.131861        17  67.131861\n",
            "\n",
            "Schedule by Machine\n",
            "                     Start  Duration     Finish\n",
            "Machine Job                                    \n",
            "Blue    Paper_1  13.538462        45  58.538462\n",
            "        Paper_2  14.538462        20  34.538462\n",
            "        Paper_3  37.661141        12  49.661141\n",
            "Green   Paper_2   4.052836        10  14.052836\n",
            "        Paper_3  50.131861        17  67.131861\n",
            "Yellow  Paper_3   8.939562        28  36.939562\n",
            "        Paper_2  34.538461        34  68.538461\n",
            "        Paper_1  58.538461        10  68.538461\n"
          ]
        }
      ],
      "source": [
        "schedule = pd.DataFrame(results)\n",
        "\n",
        "print('\\nSchedule by Job')\n",
        "print(schedule.sort_values(by=['Job','Start']).set_index(['Job', 'Machine']))\n",
        "\n",
        "print('\\nSchedule by Machine')\n",
        "print(schedule.sort_values(by=['Machine','Start']).set_index(['Machine', 'Job']))"
      ]
    },
    {
      "cell_type": "markdown",
      "metadata": {
        "id": "EBvet1ACshoS",
        "nbpages": {
          "level": 2,
          "link": "[4.3.8 Visualizing Results with Gantt Charts](https://jckantor.github.io/ND-Pyomo-Cookbook/04.03-Job-Shop-Scheduling.html#4.3.8-Visualizing-Results-with-Gantt-Charts)",
          "section": "4.3.8 Visualizing Results with Gantt Charts"
        },
        "pycharm": {}
      },
      "source": [
        "## 4.3.8 Visualizing Results with Gantt Charts"
      ]
    },
    {
      "cell_type": "code",
      "execution_count": null,
      "metadata": {
        "colab": {
          "base_uri": "https://localhost:8080/",
          "height": 477
        },
        "id": "RtQ5NWPTshoU",
        "nbpages": {
          "level": 2,
          "link": "[4.3.8 Visualizing Results with Gantt Charts](https://jckantor.github.io/ND-Pyomo-Cookbook/04.03-Job-Shop-Scheduling.html#4.3.8-Visualizing-Results-with-Gantt-Charts)",
          "section": "4.3.8 Visualizing Results with Gantt Charts"
        },
        "outputId": "bab2addd-0b90-45ef-d5eb-e65eb43d823f",
        "pycharm": {}
      },
      "outputs": [
        {
          "data": {
            "image/png": "[encoded data removed]",
            "text/plain": [
              "<Figure size 864x468 with 2 Axes>"
            ]
          },
          "metadata": {
            "needs_background": "light"
          },
          "output_type": "display_data"
        }
      ],
      "source": [
        "def visualize(results):\n",
        "    \n",
        "    schedule = pd.DataFrame(results)\n",
        "    JOBS = sorted(list(schedule['Job'].unique()))\n",
        "    MACHINES = sorted(list(schedule['Machine'].unique()))\n",
        "    makespan = schedule['Finish'].max()\n",
        "    \n",
        "    bar_style = {'alpha':1.0, 'lw':25, 'solid_capstyle':'butt'}\n",
        "    text_style = {'color':'white', 'weight':'bold', 'ha':'center', 'va':'center'}\n",
        "    colors = mpl.cm.Dark2.colors\n",
        "\n",
        "    schedule.sort_values(by=['Job', 'Start'])\n",
        "    schedule.set_index(['Job', 'Machine'], inplace=True)\n",
        "\n",
        "    fig, ax = plt.subplots(2,1, figsize=(12, 5+(len(JOBS)+len(MACHINES))/4))\n",
        "\n",
        "    for jdx, j in enumerate(JOBS, 1):\n",
        "        for mdx, m in enumerate(MACHINES, 1):\n",
        "            if (j,m) in schedule.index:\n",
        "                xs = schedule.loc[(j,m), 'Start']\n",
        "                xf = schedule.loc[(j,m), 'Finish']\n",
        "                ax[0].plot([xs, xf], [jdx]*2, c=colors[mdx%7], **bar_style)\n",
        "                ax[0].text((xs + xf)/2, jdx, m, **text_style)\n",
        "                ax[1].plot([xs, xf], [mdx]*2, c=colors[jdx%7], **bar_style)\n",
        "                ax[1].text((xs + xf)/2, mdx, j, **text_style)\n",
        "                \n",
        "    ax[0].set_title('Job Schedule')\n",
        "    ax[0].set_ylabel('Job')\n",
        "    ax[1].set_title('Machine Schedule')\n",
        "    ax[1].set_ylabel('Machine')\n",
        "    \n",
        "    for idx, s in enumerate([JOBS, MACHINES]):\n",
        "        ax[idx].set_ylim(0.5, len(s) + 0.5)\n",
        "        ax[idx].set_yticks(range(1, 1 + len(s)))\n",
        "        ax[idx].set_yticklabels(s)\n",
        "        ax[idx].text(makespan, ax[idx].get_ylim()[0]-0.2, \"{0:0.1f}\".format(makespan), ha='center', va='top')\n",
        "        ax[idx].plot([makespan]*2, ax[idx].get_ylim(), 'r--')\n",
        "        ax[idx].set_xlabel('Time')\n",
        "        ax[idx].grid(True)\n",
        "        \n",
        "    fig.tight_layout()\n",
        "\n",
        "visualize(results)"
      ]
    }
  ],
  "metadata": {
    "colab": {
      "name": "04.03-Job-Shop-Scheduling.ipynb",
      "provenance": []
    },
    "kernelspec": {
      "display_name": "Python 3",
      "language": "python",
      "name": "python3"
    },
    "language_info": {
      "codemirror_mode": {
        "name": "ipython",
        "version": 3
      },
      "file_extension": ".py",
      "mimetype": "text/x-python",
      "name": "python",
      "nbconvert_exporter": "python",
      "pygments_lexer": "ipython3",
      "version": "3.9.7"
    }
  },
  "nbformat": 4,
  "nbformat_minor": 0
}